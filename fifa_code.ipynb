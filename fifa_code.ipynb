{
 "cells": [
  {
   "attachments": {},
   "cell_type": "markdown",
   "metadata": {},
   "source": [
    "# Creación de herramienta de datos"
   ]
  },
  {
   "attachments": {},
   "cell_type": "markdown",
   "metadata": {},
   "source": [
    "### **Objetivo**: Crear una herramienta de datos para visualizar datos de fifa 23"
   ]
  },
  {
   "attachments": {},
   "cell_type": "markdown",
   "metadata": {},
   "source": [
    "Importamos librerías"
   ]
  },
  {
   "cell_type": "code",
   "execution_count": 10,
   "metadata": {},
   "outputs": [],
   "source": [
    "import streamlit as st\n",
    "import pandas as pd\n",
    "import numpy as np\n",
    "import plotly.express as px"
   ]
  },
  {
   "cell_type": "code",
   "execution_count": 11,
   "metadata": {},
   "outputs": [],
   "source": [
    "# leer datos\n",
    "fifa = pd.read_csv(\"./datos/Fifa 23 Players Data.csv\")"
   ]
  },
  {
   "cell_type": "code",
   "execution_count": 12,
   "metadata": {},
   "outputs": [
    {
     "data": {
      "text/html": [
       "<div>\n",
       "<style scoped>\n",
       "    .dataframe tbody tr th:only-of-type {\n",
       "        vertical-align: middle;\n",
       "    }\n",
       "\n",
       "    .dataframe tbody tr th {\n",
       "        vertical-align: top;\n",
       "    }\n",
       "\n",
       "    .dataframe thead th {\n",
       "        text-align: right;\n",
       "    }\n",
       "</style>\n",
       "<table border=\"1\" class=\"dataframe\">\n",
       "  <thead>\n",
       "    <tr style=\"text-align: right;\">\n",
       "      <th></th>\n",
       "      <th>Known As</th>\n",
       "      <th>Full Name</th>\n",
       "      <th>Overall</th>\n",
       "      <th>Potential</th>\n",
       "      <th>Value(in Euro)</th>\n",
       "      <th>Positions Played</th>\n",
       "      <th>Best Position</th>\n",
       "      <th>Nationality</th>\n",
       "      <th>Image Link</th>\n",
       "      <th>Age</th>\n",
       "      <th>...</th>\n",
       "      <th>LM Rating</th>\n",
       "      <th>CM Rating</th>\n",
       "      <th>RM Rating</th>\n",
       "      <th>LWB Rating</th>\n",
       "      <th>CDM Rating</th>\n",
       "      <th>RWB Rating</th>\n",
       "      <th>LB Rating</th>\n",
       "      <th>CB Rating</th>\n",
       "      <th>RB Rating</th>\n",
       "      <th>GK Rating</th>\n",
       "    </tr>\n",
       "  </thead>\n",
       "  <tbody>\n",
       "    <tr>\n",
       "      <th>0</th>\n",
       "      <td>L. Messi</td>\n",
       "      <td>Lionel Messi</td>\n",
       "      <td>91</td>\n",
       "      <td>91</td>\n",
       "      <td>54000000</td>\n",
       "      <td>RW</td>\n",
       "      <td>CAM</td>\n",
       "      <td>Argentina</td>\n",
       "      <td>https://cdn.sofifa.net/players/158/023/23_60.png</td>\n",
       "      <td>35</td>\n",
       "      <td>...</td>\n",
       "      <td>91</td>\n",
       "      <td>88</td>\n",
       "      <td>91</td>\n",
       "      <td>67</td>\n",
       "      <td>66</td>\n",
       "      <td>67</td>\n",
       "      <td>62</td>\n",
       "      <td>53</td>\n",
       "      <td>62</td>\n",
       "      <td>22</td>\n",
       "    </tr>\n",
       "    <tr>\n",
       "      <th>1</th>\n",
       "      <td>K. Benzema</td>\n",
       "      <td>Karim Benzema</td>\n",
       "      <td>91</td>\n",
       "      <td>91</td>\n",
       "      <td>64000000</td>\n",
       "      <td>CF,ST</td>\n",
       "      <td>CF</td>\n",
       "      <td>France</td>\n",
       "      <td>https://cdn.sofifa.net/players/165/153/23_60.png</td>\n",
       "      <td>34</td>\n",
       "      <td>...</td>\n",
       "      <td>89</td>\n",
       "      <td>84</td>\n",
       "      <td>89</td>\n",
       "      <td>67</td>\n",
       "      <td>67</td>\n",
       "      <td>67</td>\n",
       "      <td>63</td>\n",
       "      <td>58</td>\n",
       "      <td>63</td>\n",
       "      <td>21</td>\n",
       "    </tr>\n",
       "    <tr>\n",
       "      <th>2</th>\n",
       "      <td>R. Lewandowski</td>\n",
       "      <td>Robert Lewandowski</td>\n",
       "      <td>91</td>\n",
       "      <td>91</td>\n",
       "      <td>84000000</td>\n",
       "      <td>ST</td>\n",
       "      <td>ST</td>\n",
       "      <td>Poland</td>\n",
       "      <td>https://cdn.sofifa.net/players/188/545/23_60.png</td>\n",
       "      <td>33</td>\n",
       "      <td>...</td>\n",
       "      <td>86</td>\n",
       "      <td>83</td>\n",
       "      <td>86</td>\n",
       "      <td>67</td>\n",
       "      <td>69</td>\n",
       "      <td>67</td>\n",
       "      <td>64</td>\n",
       "      <td>63</td>\n",
       "      <td>64</td>\n",
       "      <td>22</td>\n",
       "    </tr>\n",
       "    <tr>\n",
       "      <th>3</th>\n",
       "      <td>K. De Bruyne</td>\n",
       "      <td>Kevin De Bruyne</td>\n",
       "      <td>91</td>\n",
       "      <td>91</td>\n",
       "      <td>107500000</td>\n",
       "      <td>CM,CAM</td>\n",
       "      <td>CM</td>\n",
       "      <td>Belgium</td>\n",
       "      <td>https://cdn.sofifa.net/players/192/985/23_60.png</td>\n",
       "      <td>31</td>\n",
       "      <td>...</td>\n",
       "      <td>91</td>\n",
       "      <td>91</td>\n",
       "      <td>91</td>\n",
       "      <td>82</td>\n",
       "      <td>82</td>\n",
       "      <td>82</td>\n",
       "      <td>78</td>\n",
       "      <td>72</td>\n",
       "      <td>78</td>\n",
       "      <td>24</td>\n",
       "    </tr>\n",
       "    <tr>\n",
       "      <th>4</th>\n",
       "      <td>K. Mbappé</td>\n",
       "      <td>Kylian Mbappé</td>\n",
       "      <td>91</td>\n",
       "      <td>95</td>\n",
       "      <td>190500000</td>\n",
       "      <td>ST,LW</td>\n",
       "      <td>ST</td>\n",
       "      <td>France</td>\n",
       "      <td>https://cdn.sofifa.net/players/231/747/23_60.png</td>\n",
       "      <td>23</td>\n",
       "      <td>...</td>\n",
       "      <td>92</td>\n",
       "      <td>84</td>\n",
       "      <td>92</td>\n",
       "      <td>70</td>\n",
       "      <td>66</td>\n",
       "      <td>70</td>\n",
       "      <td>66</td>\n",
       "      <td>57</td>\n",
       "      <td>66</td>\n",
       "      <td>21</td>\n",
       "    </tr>\n",
       "  </tbody>\n",
       "</table>\n",
       "<p>5 rows × 89 columns</p>\n",
       "</div>"
      ],
      "text/plain": [
       "         Known As           Full Name  Overall  Potential  Value(in Euro)  \\\n",
       "0        L. Messi        Lionel Messi       91         91        54000000   \n",
       "1      K. Benzema       Karim Benzema       91         91        64000000   \n",
       "2  R. Lewandowski  Robert Lewandowski       91         91        84000000   \n",
       "3    K. De Bruyne     Kevin De Bruyne       91         91       107500000   \n",
       "4       K. Mbappé       Kylian Mbappé       91         95       190500000   \n",
       "\n",
       "  Positions Played Best Position Nationality  \\\n",
       "0               RW           CAM   Argentina   \n",
       "1            CF,ST            CF      France   \n",
       "2               ST            ST      Poland   \n",
       "3           CM,CAM            CM     Belgium   \n",
       "4            ST,LW            ST      France   \n",
       "\n",
       "                                         Image Link  Age  ...  LM Rating  \\\n",
       "0  https://cdn.sofifa.net/players/158/023/23_60.png   35  ...         91   \n",
       "1  https://cdn.sofifa.net/players/165/153/23_60.png   34  ...         89   \n",
       "2  https://cdn.sofifa.net/players/188/545/23_60.png   33  ...         86   \n",
       "3  https://cdn.sofifa.net/players/192/985/23_60.png   31  ...         91   \n",
       "4  https://cdn.sofifa.net/players/231/747/23_60.png   23  ...         92   \n",
       "\n",
       "   CM Rating  RM Rating  LWB Rating CDM Rating  RWB Rating  LB Rating  \\\n",
       "0         88         91          67         66          67         62   \n",
       "1         84         89          67         67          67         63   \n",
       "2         83         86          67         69          67         64   \n",
       "3         91         91          82         82          82         78   \n",
       "4         84         92          70         66          70         66   \n",
       "\n",
       "  CB Rating RB Rating GK Rating  \n",
       "0        53        62        22  \n",
       "1        58        63        21  \n",
       "2        63        64        22  \n",
       "3        72        78        24  \n",
       "4        57        66        21  \n",
       "\n",
       "[5 rows x 89 columns]"
      ]
     },
     "execution_count": 12,
     "metadata": {},
     "output_type": "execute_result"
    }
   ],
   "source": [
    "fifa.head()"
   ]
  },
  {
   "attachments": {},
   "cell_type": "markdown",
   "metadata": {},
   "source": [
    "Nuestro primer componente es un MULTISELECT, que recibe los lables(nacionalidad ejem), recibe una lista(que ordenamos con sorted por ser un array)\n",
    "\n",
    "Para la parte de equipo hacemos lo mismo.\n",
    "\n",
    "Y para la parte de is_national usamos un checkbox, reciben un label y utiliza por defecto un value false. Qur nos devuelve una variable boolean"
   ]
  },
  {
   "cell_type": "code",
   "execution_count": 13,
   "metadata": {},
   "outputs": [],
   "source": [
    "with st.sidebar:\n",
    "    st.write(\"Este es el sidebar\")\n",
    "    nationality = st.multiselect(\"Nacionalidad\", sorted(fifa[\"Nationality\"].unique()))\n",
    "    team = st.multiselect(\"Equipo\", sorted(fifa[\"Club Name\"].unique()))\n",
    "    is_national = st.checkbox(\"Selección Nacional\")"
   ]
  },
  {
   "attachments": {},
   "cell_type": "markdown",
   "metadata": {},
   "source": [
    "El c´ódigo se ejecuta de principio a fin, así que se leee de arriba hasta abajor, primero las variables y luego comenzamos a filtrar los datos.\n",
    "\n",
    "Ahora creamos una función para filtrar la variable"
   ]
  },
  {
   "cell_type": "code",
   "execution_count": 14,
   "metadata": {},
   "outputs": [],
   "source": [
    "def filter_data(df, nationality, team, is_national):\n",
    "    fifa_copy = df.copy()\n",
    "    #si la dimension de mi lista es mayor a 0, filtra el df que genere una copia por la columna nacionalidad\n",
    "    if len(nationality) > 0:\n",
    "        fifa_copy = fifa_copy[fifa_copy[\"Nationality\"].isin(nationality)]\n",
    "    #lo mismo para los equipos\n",
    "    if len(team) > 0:\n",
    "        fifa_copy = fifa_copy[fifa_copy[\"Club Name\"].isin(team)]\n",
    "    #la última variable, cuando es true trae la columna national team name \n",
    "    if is_national == True:\n",
    "        fifa_copy = fifa_copy[fifa_copy[\"National Team Name\"] != \"-\"]\n",
    "        \n",
    "    return fifa_copy"
   ]
  },
  {
   "attachments": {},
   "cell_type": "markdown",
   "metadata": {},
   "source": [
    "Ya tenemos la función de filtrado y el sidebar"
   ]
  },
  {
   "attachments": {},
   "cell_type": "markdown",
   "metadata": {},
   "source": [
    "Ahora queremos tener un df para mostrar la aplicación"
   ]
  },
  {
   "cell_type": "code",
   "execution_count": 15,
   "metadata": {},
   "outputs": [
    {
     "data": {
      "text/plain": [
       "DeltaGenerator()"
      ]
     },
     "execution_count": 15,
     "metadata": {},
     "output_type": "execute_result"
    }
   ],
   "source": [
    "# así que fltramos\n",
    "fifa_ = filter_data(fifa, nationality, team, is_national)\n",
    "#para poner titulos\n",
    "st.title(\"Fifa 2023\")\n",
    "st.subheader(\"Análisis de Equpos\")\n",
    "#cuantos juagdores estoy leyendo\n",
    "total_jugadores = len(fifa_)\n",
    "#trae la media del overhall\n",
    "rating_medio = fifa_[\"Overall\"].mean()\n",
    "#y la media del Value\n",
    "valor_medio = fifa_[\"Value(in Euro)\"].mean()\n",
    "\n",
    "#nombramos columnas\n",
    "col1, col2, col3 = st.columns(3)\n",
    "#la función metrics es otra forma de mostrar datos, donde los pide label\n",
    "# :,.0f esto es para el formato del string, que sólo sean enteros, y ponga comas\n",
    "col1.metric(\"# Jugadores\", f\"{total_jugadores:,.0f}\")\n",
    "#:,.1f para que maneje floats\n",
    "col2.metric(\"Rating Medio\", f\"{rating_medio:,.1f}\")\n",
    "col3.metric(\"Valor $ Medio\", f\"{valor_medio:,.0f}\")"
   ]
  },
  {
   "attachments": {},
   "cell_type": "markdown",
   "metadata": {},
   "source": [
    "Ahora vamos con el gráfico de radar"
   ]
  },
  {
   "attachments": {},
   "cell_type": "markdown",
   "metadata": {},
   "source": [
    "Para el hacer un gráfico de radar necesitamos un df con dos columnas, una con los valores y otra con las dimensiones lo que estamos evaluando."
   ]
  },
  {
   "cell_type": "code",
   "execution_count": 16,
   "metadata": {},
   "outputs": [],
   "source": [
    "def get_team_statistics(df):\n",
    "    #estas son las métricas que usamos\n",
    "    radar_columns = [\"Pace Total\", \"Shooting Total\", \"Passing Total\", \"Dribbling Total\", \"Defending Total\", \"Physicality Total\"]\n",
    "    \n",
    "    metrics = []\n",
    "    for metric in radar_columns:\n",
    "        metrics.append(fifa_[metric].mean())\n",
    "    #theta es el nombre de las columnas    \n",
    "    return pd.DataFrame(dict(metrics=metrics, theta = radar_columns))"
   ]
  },
  {
   "attachments": {},
   "cell_type": "markdown",
   "metadata": {},
   "source": [
    "Para renderizarlo, vamos a crear una figura"
   ]
  },
  {
   "cell_type": "code",
   "execution_count": 17,
   "metadata": {},
   "outputs": [
    {
     "name": "stderr",
     "output_type": "stream",
     "text": [
      "c:\\Users\\GAMM\\anaconda3\\lib\\site-packages\\plotly\\express\\_core.py:271: FutureWarning:\n",
      "\n",
      "The frame.append method is deprecated and will be removed from pandas in a future version. Use pandas.concat instead.\n",
      "\n"
     ]
    },
    {
     "data": {
      "text/plain": [
       "DeltaGenerator()"
      ]
     },
     "execution_count": 17,
     "metadata": {},
     "output_type": "execute_result"
    }
   ],
   "source": [
    "radar_fig = px.line_polar(get_team_statistics(fifa_), r = \"metrics\", theta=\"theta\", line_close=True)\n",
    "\n",
    "# Configurar el diseño del gráfico de radar\n",
    "radar_fig.update_layout(\n",
    "    polar=dict(\n",
    "        radialaxis=dict(\n",
    "            visible=True,\n",
    "            range=[0, 100]\n",
    "        )\n",
    "    ),\n",
    "    showlegend=False\n",
    ")\n",
    "\n",
    "st.plotly_chart(radar_fig)\n",
    "\n",
    "st.dataframe(fifa_)"
   ]
  },
  {
   "cell_type": "code",
   "execution_count": 18,
   "metadata": {},
   "outputs": [
    {
     "name": "stderr",
     "output_type": "stream",
     "text": [
      "c:\\Users\\GAMM\\anaconda3\\lib\\site-packages\\plotly\\express\\_core.py:271: FutureWarning:\n",
      "\n",
      "The frame.append method is deprecated and will be removed from pandas in a future version. Use pandas.concat instead.\n",
      "\n"
     ]
    },
    {
     "data": {
      "text/plain": [
       "DeltaGenerator()"
      ]
     },
     "execution_count": 18,
     "metadata": {},
     "output_type": "execute_result"
    }
   ],
   "source": [
    "# Obtener los datos para el gráfico de radar\n",
    "team_statistics = get_team_statistics(fifa_)\n",
    "\n",
    "# Crear el gráfico de radar\n",
    "radar_fig = px.line_polar(get_team_statistics(fifa_), r = \"metrics\", theta=\"theta\", line_close=True)\n",
    "\n",
    "# Configurar el diseño del gráfico de radar\n",
    "radar_fig.update_layout(\n",
    "    polar=dict(\n",
    "        radialaxis=dict(\n",
    "            visible=True,\n",
    "            range=[0, 100]\n",
    "        )\n",
    "    ),\n",
    "    showlegend=False\n",
    ")\n",
    "\n",
    "# Mostrar el gráfico de radar en Streamlit\n",
    "st.plotly_chart(radar_fig)\n",
    "\n",
    "# Mostrar el dataframe en Streamlit\n",
    "st.dataframe(fifa_)"
   ]
  }
 ],
 "metadata": {
  "kernelspec": {
   "display_name": "base",
   "language": "python",
   "name": "python3"
  },
  "language_info": {
   "codemirror_mode": {
    "name": "ipython",
    "version": 3
   },
   "file_extension": ".py",
   "mimetype": "text/x-python",
   "name": "python",
   "nbconvert_exporter": "python",
   "pygments_lexer": "ipython3",
   "version": "2022.10.undefined"
  },
  "orig_nbformat": 4
 },
 "nbformat": 4,
 "nbformat_minor": 2
}
